{
 "cells": [
  {
   "cell_type": "markdown",
   "id": "8e63ee0c-0f2e-4c77-af76-eed07d9c5719",
   "metadata": {},
   "source": [
    "# Zillow Zestimates in 2017"
   ]
  },
  {
   "cell_type": "markdown",
   "id": "4b896eb9-693e-4d6e-9ee1-65b284988d44",
   "metadata": {},
   "source": [
    "by Mathias Boissevain 2022-04-08"
   ]
  },
  {
   "cell_type": "markdown",
   "id": "81c57154-fa29-4afc-87b1-d1b2a9603418",
   "metadata": {},
   "source": [
    "## Project Goal"
   ]
  },
  {
   "cell_type": "markdown",
   "id": "1bf153f1-2bc4-4261-b528-7215a4a6aff6",
   "metadata": {},
   "source": [
    "The goal of this project is to"
   ]
  },
  {
   "cell_type": "markdown",
   "id": "ac652e62-8911-453c-8e5d-c63668c1817a",
   "metadata": {},
   "source": [
    "## Project Description"
   ]
  },
  {
   "cell_type": "markdown",
   "id": "db8403a9-6707-4dbf-a54a-d7a113c1e40c",
   "metadata": {},
   "source": [
    "Zestimates and stuff and things"
   ]
  },
  {
   "cell_type": "markdown",
   "id": "6894b09a-ecd7-4448-b1de-046025e06b74",
   "metadata": {},
   "source": [
    "## Initial Questions"
   ]
  },
  {
   "cell_type": "markdown",
   "id": "5c22fb36-e591-41ed-b248-4f1782d597c2",
   "metadata": {},
   "source": [
    "- Can I spell?\n",
    "- Why caffeine so good?\n",
    "- Who dat?"
   ]
  },
  {
   "cell_type": "markdown",
   "id": "e452673c-f3ca-4dd2-b4de-6f470434a375",
   "metadata": {},
   "source": [
    "## Data Dictionary"
   ]
  },
  {
   "cell_type": "markdown",
   "id": "e50ec918-6ddd-442e-9369-087bde162fb9",
   "metadata": {},
   "source": [
    "Dictionary of data"
   ]
  },
  {
   "cell_type": "markdown",
   "id": "7f2b65bb-c95b-4247-b41c-2ddd5171ac30",
   "metadata": {},
   "source": [
    "## Wrangle Zillow Data"
   ]
  },
  {
   "cell_type": "markdown",
   "id": "0d129e47-7d9e-484f-9718-9b12fd02685b",
   "metadata": {},
   "source": [
    "How'd you do that?\n"
   ]
  },
  {
   "cell_type": "code",
   "execution_count": 1,
   "id": "03e112e1-2177-4c85-ad75-3621410888a2",
   "metadata": {},
   "outputs": [],
   "source": [
    "## CODE AND STUFF AND THINGS (wrangle function)"
   ]
  },
  {
   "cell_type": "markdown",
   "id": "48bbf18c-c075-4e0b-8405-ecb7cd07a7e5",
   "metadata": {},
   "source": [
    "What'd you do?"
   ]
  },
  {
   "cell_type": "code",
   "execution_count": 2,
   "id": "b29bb261-aa13-4340-98e4-f7977ba19fbe",
   "metadata": {},
   "outputs": [],
   "source": [
    "## SPLIT IT"
   ]
  },
  {
   "cell_type": "markdown",
   "id": "c1e9dd79-738c-4aa8-b720-98de5f291a19",
   "metadata": {},
   "source": [
    "What just happened?"
   ]
  },
  {
   "cell_type": "code",
   "execution_count": 3,
   "id": "7318c932-79bd-4882-a926-8c568f8b1187",
   "metadata": {},
   "outputs": [],
   "source": [
    "## SCALE IT"
   ]
  },
  {
   "cell_type": "markdown",
   "id": "43e72177-bf84-4855-97b0-46485ebf8a55",
   "metadata": {},
   "source": [
    "## Data Context"
   ]
  },
  {
   "cell_type": "code",
   "execution_count": 5,
   "id": "278ee1f1-c204-4da8-909c-167f60cc3c54",
   "metadata": {},
   "outputs": [],
   "source": [
    "## POP IT, TWIST IT (Viz to show whats good)"
   ]
  },
  {
   "cell_type": "markdown",
   "id": "0dd4ef9d-5bd2-440c-bee6-c8c4355ca3d5",
   "metadata": {},
   "source": [
    "## Exploratory Data Analysis"
   ]
  },
  {
   "cell_type": "markdown",
   "id": "fc4bb1d8-b6f8-4f29-b2cf-f77f06a802c5",
   "metadata": {},
   "source": [
    "Q1"
   ]
  },
  {
   "cell_type": "code",
   "execution_count": 6,
   "id": "bf742b3d-4dad-4f8b-be40-45a9c2065af8",
   "metadata": {},
   "outputs": [],
   "source": [
    "# Viz 1"
   ]
  },
  {
   "cell_type": "markdown",
   "id": "791e3e62-8685-432b-88bc-2ee7d4d493eb",
   "metadata": {},
   "source": [
    "Hypothesis"
   ]
  },
  {
   "cell_type": "code",
   "execution_count": 7,
   "id": "71b99cb3-258f-4e97-a3e8-05a19f498eb7",
   "metadata": {},
   "outputs": [],
   "source": [
    "# Test 1"
   ]
  },
  {
   "cell_type": "markdown",
   "id": "bee8c4a0-fa44-4def-92a6-6eb84e36d775",
   "metadata": {},
   "source": [
    "Summary"
   ]
  },
  {
   "cell_type": "markdown",
   "id": "4531aff0-b701-4231-9668-d7d7e54f4f03",
   "metadata": {},
   "source": [
    "Q2"
   ]
  },
  {
   "cell_type": "code",
   "execution_count": 8,
   "id": "1dd0f779-76ea-4523-98a1-3a74a45df57f",
   "metadata": {},
   "outputs": [],
   "source": [
    "# Viz 2"
   ]
  },
  {
   "cell_type": "markdown",
   "id": "e406ecd0-b137-49a7-8220-f9ff0474e428",
   "metadata": {},
   "source": [
    "Hypothesis"
   ]
  },
  {
   "cell_type": "code",
   "execution_count": 9,
   "id": "868cf2c8-0164-471b-8dc1-1dc5c6b33a1a",
   "metadata": {},
   "outputs": [],
   "source": [
    "# Test 2"
   ]
  },
  {
   "cell_type": "markdown",
   "id": "7f330936-9a48-4362-a27f-36e5c4eff409",
   "metadata": {},
   "source": [
    "Summary"
   ]
  },
  {
   "cell_type": "markdown",
   "id": "e0225e6d-b794-4e1c-9c3c-2c71d90b2396",
   "metadata": {},
   "source": [
    "Q3"
   ]
  },
  {
   "cell_type": "code",
   "execution_count": 10,
   "id": "eb30637c-3cf0-47d3-9954-cc13f97f8353",
   "metadata": {},
   "outputs": [],
   "source": [
    "# Viz 3"
   ]
  },
  {
   "cell_type": "markdown",
   "id": "81c187ed-9222-464d-baab-dc4b71dfb0da",
   "metadata": {},
   "source": [
    "Hypothesis"
   ]
  },
  {
   "cell_type": "code",
   "execution_count": 11,
   "id": "201904eb-c854-444f-8ba5-da774802fa1c",
   "metadata": {},
   "outputs": [],
   "source": [
    "# Test 3"
   ]
  },
  {
   "cell_type": "markdown",
   "id": "04f770cb-a113-4d13-84f8-97c9bd6ef15e",
   "metadata": {},
   "source": [
    "Summary"
   ]
  },
  {
   "cell_type": "markdown",
   "id": "4bd71bd3-0772-49ad-b369-ffa8f7e06624",
   "metadata": {},
   "source": [
    "Q4"
   ]
  },
  {
   "cell_type": "markdown",
   "id": "11de083b-a3ff-46cd-a6c1-99ac21c28c56",
   "metadata": {},
   "source": [
    "Q5"
   ]
  },
  {
   "cell_type": "markdown",
   "id": "dea911df-b820-4b80-8956-aa65d5c024ed",
   "metadata": {},
   "source": [
    "Summary of Explore"
   ]
  },
  {
   "cell_type": "markdown",
   "id": "5fcef8d8-b69b-4af3-9fa4-dfef59338c8b",
   "metadata": {},
   "source": [
    "## Clustering "
   ]
  },
  {
   "cell_type": "markdown",
   "id": "7356d866-e5b2-4985-84f2-e73c597dd7d9",
   "metadata": {},
   "source": [
    "You get a cluster (Explore viz cluster?)"
   ]
  },
  {
   "cell_type": "code",
   "execution_count": null,
   "id": "f1fdbbc6-3c3a-49ef-aaa0-85b42c67a3cd",
   "metadata": {},
   "outputs": [],
   "source": []
  },
  {
   "cell_type": "markdown",
   "id": "4b4bc439-3952-4eb3-96c9-e5c9cceaa4e0",
   "metadata": {},
   "source": [
    "You get a cluster (Feature Cluster?)"
   ]
  },
  {
   "cell_type": "code",
   "execution_count": null,
   "id": "29d4818c-596f-42dc-88da-80911db56354",
   "metadata": {},
   "outputs": [],
   "source": []
  },
  {
   "cell_type": "markdown",
   "id": "e1d19d32-70ba-4e7f-b9b1-2e3761a69841",
   "metadata": {},
   "source": [
    "You get a cluster (Sample cluster to model on?)"
   ]
  },
  {
   "cell_type": "code",
   "execution_count": null,
   "id": "3abc82d9-e9e9-47b3-bfa8-c6d15f7f39eb",
   "metadata": {},
   "outputs": [],
   "source": []
  },
  {
   "cell_type": "markdown",
   "id": "7d206f9e-7791-4fee-8293-d3db87c44646",
   "metadata": {},
   "source": [
    "Summary of cluster"
   ]
  },
  {
   "cell_type": "markdown",
   "id": "b9c30ba5-882e-4bde-b11f-b0e905ed66d1",
   "metadata": {},
   "source": [
    "## PCA and RFE"
   ]
  },
  {
   "cell_type": "code",
   "execution_count": null,
   "id": "9a41a62b-51e3-42d3-8150-75d5b7ba115d",
   "metadata": {},
   "outputs": [],
   "source": []
  },
  {
   "cell_type": "code",
   "execution_count": null,
   "id": "6e4b516d-693d-4844-971a-8defd6b1823c",
   "metadata": {},
   "outputs": [],
   "source": []
  },
  {
   "cell_type": "markdown",
   "id": "8eb2cc37-746a-475f-aa9f-7d2aa4ef22db",
   "metadata": {},
   "source": [
    "Summary of all summaries before modeling. Explain whats being used moving forward and what was found."
   ]
  },
  {
   "cell_type": "markdown",
   "id": "969167e4-7059-43bd-8856-b3a37d5a70a0",
   "metadata": {},
   "source": [
    "## Modeling"
   ]
  },
  {
   "cell_type": "markdown",
   "id": "dd4fc9e3-59c6-4281-b898-029aa6399820",
   "metadata": {},
   "source": [
    "Features:"
   ]
  },
  {
   "cell_type": "markdown",
   "id": "a29b7abe-1471-452e-83d8-53b8038e7b33",
   "metadata": {},
   "source": [
    "Baseline:"
   ]
  },
  {
   "cell_type": "code",
   "execution_count": null,
   "id": "72956d87-b5da-4396-87dc-ffe2f3121a31",
   "metadata": {},
   "outputs": [],
   "source": []
  },
  {
   "cell_type": "code",
   "execution_count": null,
   "id": "79715d68-c7a7-4f11-9333-bda11195ca82",
   "metadata": {},
   "outputs": [],
   "source": []
  },
  {
   "cell_type": "markdown",
   "id": "710d0ce2-3c86-4596-851d-870b2953e355",
   "metadata": {},
   "source": [
    "Summary:"
   ]
  },
  {
   "cell_type": "markdown",
   "id": "9efaca25-cb54-4025-855d-0115797b77d4",
   "metadata": {},
   "source": [
    "## Evaluation Metric"
   ]
  },
  {
   "cell_type": "markdown",
   "id": "dc7ede5f-43ad-4597-8c6e-9474e5fc3536",
   "metadata": {},
   "source": [
    "What did I use again?"
   ]
  },
  {
   "cell_type": "markdown",
   "id": "01c01e8f-cffe-4d17-bb21-371cc49c8cff",
   "metadata": {},
   "source": [
    "## Models"
   ]
  },
  {
   "cell_type": "markdown",
   "id": "2678392a-80c6-4187-9772-031e1fb1d971",
   "metadata": {},
   "source": [
    "Explanation"
   ]
  },
  {
   "cell_type": "markdown",
   "id": "20f958b2-31de-416b-bfda-575891a44b41",
   "metadata": {},
   "source": [
    "### Top model 1"
   ]
  },
  {
   "cell_type": "code",
   "execution_count": null,
   "id": "59e35692-d5d8-4b3c-a216-408e9af1e8a4",
   "metadata": {},
   "outputs": [],
   "source": []
  },
  {
   "cell_type": "markdown",
   "id": "81048242-93d6-46dc-a781-443c0b1c2c84",
   "metadata": {},
   "source": [
    "Summary"
   ]
  },
  {
   "cell_type": "markdown",
   "id": "8bd0132f-9c1f-4809-aded-85af3bc3e8d6",
   "metadata": {},
   "source": [
    "### Top model 2"
   ]
  },
  {
   "cell_type": "code",
   "execution_count": null,
   "id": "dcd40798-ff12-447a-9bdf-e08f86c4c23b",
   "metadata": {},
   "outputs": [],
   "source": []
  },
  {
   "cell_type": "markdown",
   "id": "8d07b4d0-5eb8-4694-b0eb-063b01820c85",
   "metadata": {},
   "source": [
    "Summary"
   ]
  },
  {
   "cell_type": "markdown",
   "id": "c023662f-d19f-4115-ba83-81ea0757a259",
   "metadata": {},
   "source": [
    "### Top model 3"
   ]
  },
  {
   "cell_type": "code",
   "execution_count": null,
   "id": "e0a207b7-0440-4934-ab4b-e95ef8f3b3db",
   "metadata": {},
   "outputs": [],
   "source": []
  },
  {
   "cell_type": "markdown",
   "id": "0edef1ce-9069-4a6e-af9c-6f9624c7e44e",
   "metadata": {},
   "source": [
    "Summary"
   ]
  },
  {
   "cell_type": "markdown",
   "id": "5179ac8b-2639-40a4-91ec-ec709ac3de05",
   "metadata": {},
   "source": [
    "### Zillow's next top model"
   ]
  },
  {
   "cell_type": "code",
   "execution_count": null,
   "id": "ef30b01a-6b71-4f9d-ae1d-576b3882bae6",
   "metadata": {},
   "outputs": [],
   "source": []
  },
  {
   "cell_type": "markdown",
   "id": "788d0920-afcc-4b64-a758-24a76d3bebc1",
   "metadata": {},
   "source": [
    "Summary"
   ]
  },
  {
   "cell_type": "markdown",
   "id": "89474009-f574-408a-8b4b-d32bf50eeaff",
   "metadata": {},
   "source": [
    "## Conclusion"
   ]
  },
  {
   "cell_type": "markdown",
   "id": "2ddffb99-e42e-43d8-9e18-7ce61ae781c7",
   "metadata": {},
   "source": [
    "#### Summary"
   ]
  },
  {
   "cell_type": "markdown",
   "id": "aaf2f285-1d3b-442e-b9bd-2655f8dadf8c",
   "metadata": {},
   "source": [
    "- what happend"
   ]
  },
  {
   "cell_type": "markdown",
   "id": "07fbd25f-cd20-4b23-bcc8-eff48a3947e4",
   "metadata": {},
   "source": [
    "### Recommendations"
   ]
  },
  {
   "cell_type": "markdown",
   "id": "fea4f07c-00e6-4ec3-84b3-01a597b7e715",
   "metadata": {},
   "source": [
    "- What should we do about it."
   ]
  },
  {
   "cell_type": "markdown",
   "id": "a6bc39de-18b2-4f6b-a4c3-824d1d5c4d7d",
   "metadata": {},
   "source": [
    "### Next Steps"
   ]
  },
  {
   "cell_type": "markdown",
   "id": "ab6245bc-e15e-4e55-91e9-f577976e9cd2",
   "metadata": {},
   "source": [
    "- What I would do if I had more time"
   ]
  },
  {
   "cell_type": "code",
   "execution_count": null,
   "id": "89128a77-d4ee-48a4-b66e-3ddd4a33f8ec",
   "metadata": {},
   "outputs": [],
   "source": []
  }
 ],
 "metadata": {
  "kernelspec": {
   "display_name": "Python 3 (ipykernel)",
   "language": "python",
   "name": "python3"
  },
  "language_info": {
   "codemirror_mode": {
    "name": "ipython",
    "version": 3
   },
   "file_extension": ".py",
   "mimetype": "text/x-python",
   "name": "python",
   "nbconvert_exporter": "python",
   "pygments_lexer": "ipython3",
   "version": "3.9.7"
  }
 },
 "nbformat": 4,
 "nbformat_minor": 5
}
